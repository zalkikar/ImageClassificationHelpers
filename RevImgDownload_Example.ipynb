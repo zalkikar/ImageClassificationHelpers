{
 "cells": [
  {
   "cell_type": "code",
   "execution_count": 1,
   "metadata": {},
   "outputs": [
    {
     "data": {
      "text/plain": [
       "'C:\\\\Users\\\\rayzc'"
      ]
     },
     "execution_count": 1,
     "metadata": {},
     "output_type": "execute_result"
    }
   ],
   "source": [
    "import os\n",
    "mydir = os.getcwd()\n",
    "mydir"
   ]
  },
  {
   "cell_type": "code",
   "execution_count": 2,
   "metadata": {},
   "outputs": [],
   "source": [
    "mydir_new = os.chdir(mydir+\"\\\\Downloads\")"
   ]
  },
  {
   "cell_type": "code",
   "execution_count": 3,
   "metadata": {},
   "outputs": [],
   "source": [
    "from RevImgDownloader import revimgdownload # class - make sure this is in accessible directory"
   ]
  },
  {
   "cell_type": "code",
   "execution_count": 4,
   "metadata": {},
   "outputs": [
    {
     "name": "stdout",
     "output_type": "stream",
     "text": [
      "\n",
      "Item no.: 1 --> Item name = 2019-09-18 10_58_46\n",
      "Evaluating...\n",
      "https://images.sftcdn.net/images/t_app-cover-l,f_auto/p/ce2ece60-9b32-11e6-95ab-00163ed833e7/3252079848/the-test-fun-for-friends-screenshot.jpg\n",
      "Starting Download...\n",
      "Image URL: https://cdn.lynda.com/course/633854/633854-636549849211882123-16x9.jpg\n",
      "Completed Image ====> 1.633854-636549849211882123-16x9.jpg\n",
      "Image URL: https://99designs-blog.imgix.net/blog/wp-content/uploads/2018/06/attachment_59337693.jpg?auto=format&q=60&fit=max&w=930\n",
      "Completed Image ====> 2.attachment_59337693.jpg\n",
      "Image URL: https://www.itsnicethat.com/system/files/122018/5c1781db7fa44c5a800003ac/index_default/INT-ROTY-GraphicDesign-List.png?1545203083\n",
      "Completed Image ====> 3.INT-ROTY-GraphicDesign-List.png\n",
      "Image URL: https://www.digitalartsonline.co.uk/cmsdata/slideshow/3598399/Graphic-Design-Tutorials-Main.jpg\n",
      "Completed Image ====> 4.Graphic-Design-Tutorials-Main.jpg\n",
      "Image URL: https://i.ytimg.com/vi/YqQx75OPRa0/maxresdefault.jpg\n",
      "Completed Image ====> 5.maxresdefault.jpg\n",
      "Image URL: https://training.skill.jobs/assets/uploads/course/banner/1210015.jpg\n",
      "Completed Image ====> 6.1210015.jpg\n",
      "Image URL: https://helpx.adobe.com/content/dam/help/en/photoshop/how-to/graphic-design-basics/_jcr_content/main-pars/image/5407-graphic-design-basics_1408x792.jpg\n",
      "Completed Image ====> 7.5407-graphic-design-basics_1408x792.jpg\n",
      "Image URL: https://cdn.mos.cms.futurecdn.net/h5J594mu7Wh2NG4cYEyesj.png\n",
      "Completed Image ====> 8.h5J594mu7Wh2NG4cYEyesj.png\n",
      "Image URL: https://justcreative.com/wp-content/uploads/2018/03/Graphic-Designer.jpg\n",
      "Completed Image ====> 9.Graphic-Designer.jpg\n",
      "Image URL: https://cdnp2.stackassets.com/9e39a5e8c94f6d5a5e659ebc6401ccd075e4fa31/store/29281c80865904a4c14469f658c9c54f75e9759b83fa89b11eb0fca3f876/sale_9373_primary_image.jpg\n",
      "Completed Image ====> 10.sale_9373_primary_image.jpg\n",
      "\n",
      "Errors: 0\n",
      "\n"
     ]
    },
    {
     "data": {
      "text/plain": [
       "<Zalkikar_RevImgDownloader.revimgdownload at 0x210836c9a20>"
      ]
     },
     "execution_count": 4,
     "metadata": {},
     "output_type": "execute_result"
    }
   ],
   "source": [
    "revimgdownload(['Test'],\n",
    "               ['https://images.sftcdn.net/images/t_app-cover-l,f_auto/p/ce2ece60-9b32-11e6-95ab-00163ed833e7/3252079848/the-test-fun-for-friends-screenshot.jpg'],\n",
    "               \"C:/Users/rayzc/Downloads/chromedriver_win32/chromedriver.exe\",\n",
    "               10,\n",
    "               \"C:/Users/rayzc/Downloads/\"\n",
    "              )"
   ]
  }
 ],
 "metadata": {
  "kernelspec": {
   "display_name": "Python 3",
   "language": "python",
   "name": "python3"
  },
  "language_info": {
   "codemirror_mode": {
    "name": "ipython",
    "version": 3
   },
   "file_extension": ".py",
   "mimetype": "text/x-python",
   "name": "python",
   "nbconvert_exporter": "python",
   "pygments_lexer": "ipython3",
   "version": "3.7.1"
  }
 },
 "nbformat": 4,
 "nbformat_minor": 2
}
